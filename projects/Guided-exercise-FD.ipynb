{
 "cells": [
  {
   "cell_type": "markdown",
   "metadata": {},
   "source": [
    "This exercise is a preparation for the finite differences method, that will be discussed in class.\n",
    "\n",
    "Let's start by a simple partial differential equation: the 1D heat equation in its simplest form:\n",
    "\n",
    "\\begin{equation}\n",
    "\\frac{\\partial u}{\\partial t} = \\alpha\\frac{\\partial^2 u}{\\partial x^2},\n",
    "\\end{equation}\n",
    "\n",
    "where $u(x,t)$ models the temperature at position $x$ and time $t$. In a finite grid (i.e., not continuous), the function $u$ will have two associated indexes: $u_{i,j}$, where $i$ simbolizes the discretization in $x$ and $j$ the discretization in $t$.\n",
    "\n",
    "The left-hand side of the equation can be written approximately as\n",
    "\n",
    "\\begin{equation}\n",
    "\\frac{\\partial u}{\\partial t}\\approx\\frac{u_{i,j+1}-u_{i,j}}{\\Delta t},\n",
    "\\end{equation}\n",
    "\n",
    "in which $u_{i,j+1}$ is the value of $u$ and position $x$ after one infinitesimal time step $\\Delta t$. Now the right hand side:\n",
    "\n",
    "\\begin{equation}\n",
    "\\alpha\\frac{\\partial^2 u}{\\partial x^2}\\approx\\alpha\\left(\\frac{u_{i+1,j}-2u_{i,j}+u_{i-1,j}}{(\\Delta x)^2}\\right),\n",
    "\\end{equation}\n",
    "\n",
    "where $u_{i+1,j}$ is the value of $u$ at time $t$ and in the infinitesimal change in position $x+\\Delta x$ (one step in $i$). Altogether:\n",
    "\n",
    "\\begin{equation}\n",
    "u_{i,j+1}=u_{i,j}+\\gamma(u_{i+1,j}-2u_{i,j}+u_{i-1,j})\n",
    "\\end{equation}\n",
    "\n",
    "with $\\gamma=\\alpha\\frac{\\Delta t}{(\\Delta x)^2}$. Our task in this exercise will be to implement this last equation to work."
   ]
  },
  {
   "cell_type": "markdown",
   "metadata": {},
   "source": [
    "Let's first import the libraries and define some initial conditions for the problem:"
   ]
  },
  {
   "cell_type": "code",
   "execution_count": 43,
   "metadata": {},
   "outputs": [],
   "source": [
    "import numpy as np\n",
    "import matplotlib.pyplot as plt\n",
    "import plotly.graph_objects as go\n",
    "\n",
    "# Parameters\n",
    "L = 1.0             # Length \n",
    "alpha = 1.0         # Thermal diffusivity coefficient\n",
    "nx = 11             # Number of spatial (x) grid points\n",
    "dx = L/(nx-1)       # Spatial step size (t)\n",
    "dt = 0.005          # Time step size\n",
    "nt = 100            # Number of time steps\n",
    "gamma = alpha*(dt/(dx**2)) ## Proportionality constant"
   ]
  },
  {
   "cell_type": "markdown",
   "metadata": {},
   "source": [
    "Our problem must have an initial condition that drives the temperature out of equilibrium, in order to have some dynamics. Otherwise we would have a steady-state, and that is not so fun.\n",
    "\n",
    "So, let's consider $u(x,t=0) = \\sin(\\frac{\\pi x}{L})$ for $x\\in[0,L]$. But, as we set $L=1$, it is simply $u(x,0)=\\sin(\\pi x)$."
   ]
  },
  {
   "cell_type": "code",
   "execution_count": 44,
   "metadata": {},
   "outputs": [],
   "source": [
    "## Set the spatial grid and an initial condition for u(x,t = 0)\n",
    "\n",
    "x = np.linspace(0, L, nx)\n",
    "\n",
    "## u is an array of 2 dimensions, as stated in the problem\n",
    "u = np.zeros((nx, nt))\n",
    "\n",
    "## now we set the initial condition for t = 0\n",
    "u[:,0] = np.sin(np.pi*x)\n"
   ]
  },
  {
   "cell_type": "markdown",
   "metadata": {},
   "source": [
    "Now it is your turn. The task is to evolve $u_{i,j}$ according to the last equation. You can do it by using \"for\" loops."
   ]
  },
  {
   "cell_type": "code",
   "execution_count": 45,
   "metadata": {},
   "outputs": [],
   "source": [
    "### You code here.\n",
    "for j in range(nt-1): #gets j+1 value, so we stop at nt-1 to not go out of bounds\n",
    "    for i in range(1, nx-1): #skip the boundaries at i=0 and i=nx-1 (i = 0 is the initial condition)\n",
    "        u[i,j+1] = u[i,j] + gamma * (u[i+1,j] - 2*u[i,j] + u[i-1,j])"
   ]
  },
  {
   "cell_type": "markdown",
   "metadata": {},
   "source": [
    "Now that you have the $u$ array working, try to plot it. You can maybe use matplotlib or plotly for that. If you want, try to change $nx$ and $nt$ to make it nicer, but don't forget that, to your solution to be stable, $\\gamma\\leq\\frac{1}{2}$."
   ]
  },
  {
   "cell_type": "code",
   "execution_count": 46,
   "metadata": {},
   "outputs": [
    {
     "data": {
      "application/vnd.plotly.v1+json": {
       "config": {
        "plotlyServerURL": "https://plot.ly"
       },
       "data": [
        {
         "colorscale": [
          [
           0,
           "rgb(0,0,0)"
          ],
          [
           0.3333333333333333,
           "rgb(230,0,0)"
          ],
          [
           0.6666666666666666,
           "rgb(255,210,0)"
          ],
          [
           1,
           "rgb(255,255,255)"
          ]
         ],
         "type": "surface",
         "x": {
          "bdata": "AAAAAAAAAACamZmZmZm5P5qZmZmZmck/NDMzMzMz0z+amZmZmZnZPwAAAAAAAOA/NDMzMzMz4z9nZmZmZmbmP5qZmZmZmek/zczMzMzM7D8AAAAAAADwPw==",
          "dtype": "f8"
         },
         "y": {
          "bdata": "AAAAAAAAAAB7FK5H4Xp0P3sUrkfheoQ/uB6F61G4jj97FK5H4XqUP5qZmZmZmZk/uB6F61G4nj/sUbgeheuhP3sUrkfheqQ/CtejcD0Kpz+amZmZmZmpPylcj8L1KKw/uB6F61G4rj+kcD0K16OwP+xRuB6F67E/MzMzMzMzsz97FK5H4Xq0P8P1KFyPwrU/CtejcD0Ktz9SuB6F61G4P5qZmZmZmbk/4XoUrkfhuj8pXI/C9Si8P3E9CtejcL0/uB6F61G4vj8AAAAAAADAP6RwPQrXo8A/SOF6FK5HwT/sUbgehevBP4/C9Shcj8I/MzMzMzMzwz/Xo3A9CtfDP3sUrkfhesQ/H4XrUbgexT/D9Shcj8LFP2dmZmZmZsY/CtejcD0Kxz+uR+F6FK7HP1K4HoXrUcg/9ihcj8L1yD+amZmZmZnJPz4K16NwPco/4XoUrkfhyj+F61G4HoXLPylcj8L1KMw/zczMzMzMzD9xPQrXo3DNPxWuR+F6FM4/uB6F61G4zj9cj8L1KFzPPwAAAAAAANA/UrgehetR0D+kcD0K16PQP/YoXI/C9dA/SOF6FK5H0T+amZmZmZnRP+xRuB6F69E/PgrXo3A90j+PwvUoXI/SP+F6FK5H4dI/MzMzMzMz0z+F61G4HoXTP9ejcD0K19M/KVyPwvUo1D97FK5H4XrUP83MzMzMzNQ/H4XrUbge1T9xPQrXo3DVP8P1KFyPwtU/Fa5H4XoU1j9nZmZmZmbWP7gehetRuNY/CtejcD0K1z9cj8L1KFzXP65H4XoUrtc/AAAAAAAA2D9SuB6F61HYP6RwPQrXo9g/9ihcj8L12D9I4XoUrkfZP5qZmZmZmdk/7FG4HoXr2T8+CtejcD3aP5DC9Shcj9o/4XoUrkfh2j8zMzMzMzPbP4XrUbgehds/16NwPQrX2z8pXI/C9SjcP3sUrkfhetw/zczMzMzM3D8fhetRuB7dP3E9CtejcN0/w/UoXI/C3T8VrkfhehTeP2dmZmZmZt4/uB6F61G43j8K16NwPQrfP1yPwvUoXN8/rkfhehSu3z8=",
          "dtype": "f8"
         },
         "z": {
          "bdata": "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",
          "dtype": "f8",
          "shape": "100, 11"
         }
        }
       ],
       "layout": {
        "scene": {
         "xaxis": {
          "title": {
           "text": "Time t"
          }
         },
         "yaxis": {
          "title": {
           "text": "Position x"
          }
         },
         "zaxis": {
          "title": {
           "text": "Temperature u(x,t)"
          }
         }
        },
        "template": {
         "data": {
          "bar": [
           {
            "error_x": {
             "color": "#2a3f5f"
            },
            "error_y": {
             "color": "#2a3f5f"
            },
            "marker": {
             "line": {
              "color": "#E5ECF6",
              "width": 0.5
             },
             "pattern": {
              "fillmode": "overlay",
              "size": 10,
              "solidity": 0.2
             }
            },
            "type": "bar"
           }
          ],
          "barpolar": [
           {
            "marker": {
             "line": {
              "color": "#E5ECF6",
              "width": 0.5
             },
             "pattern": {
              "fillmode": "overlay",
              "size": 10,
              "solidity": 0.2
             }
            },
            "type": "barpolar"
           }
          ],
          "carpet": [
           {
            "aaxis": {
             "endlinecolor": "#2a3f5f",
             "gridcolor": "white",
             "linecolor": "white",
             "minorgridcolor": "white",
             "startlinecolor": "#2a3f5f"
            },
            "baxis": {
             "endlinecolor": "#2a3f5f",
             "gridcolor": "white",
             "linecolor": "white",
             "minorgridcolor": "white",
             "startlinecolor": "#2a3f5f"
            },
            "type": "carpet"
           }
          ],
          "choropleth": [
           {
            "colorbar": {
             "outlinewidth": 0,
             "ticks": ""
            },
            "type": "choropleth"
           }
          ],
          "contour": [
           {
            "colorbar": {
             "outlinewidth": 0,
             "ticks": ""
            },
            "colorscale": [
             [
              0,
              "#0d0887"
             ],
             [
              0.1111111111111111,
              "#46039f"
             ],
             [
              0.2222222222222222,
              "#7201a8"
             ],
             [
              0.3333333333333333,
              "#9c179e"
             ],
             [
              0.4444444444444444,
              "#bd3786"
             ],
             [
              0.5555555555555556,
              "#d8576b"
             ],
             [
              0.6666666666666666,
              "#ed7953"
             ],
             [
              0.7777777777777778,
              "#fb9f3a"
             ],
             [
              0.8888888888888888,
              "#fdca26"
             ],
             [
              1,
              "#f0f921"
             ]
            ],
            "type": "contour"
           }
          ],
          "contourcarpet": [
           {
            "colorbar": {
             "outlinewidth": 0,
             "ticks": ""
            },
            "type": "contourcarpet"
           }
          ],
          "heatmap": [
           {
            "colorbar": {
             "outlinewidth": 0,
             "ticks": ""
            },
            "colorscale": [
             [
              0,
              "#0d0887"
             ],
             [
              0.1111111111111111,
              "#46039f"
             ],
             [
              0.2222222222222222,
              "#7201a8"
             ],
             [
              0.3333333333333333,
              "#9c179e"
             ],
             [
              0.4444444444444444,
              "#bd3786"
             ],
             [
              0.5555555555555556,
              "#d8576b"
             ],
             [
              0.6666666666666666,
              "#ed7953"
             ],
             [
              0.7777777777777778,
              "#fb9f3a"
             ],
             [
              0.8888888888888888,
              "#fdca26"
             ],
             [
              1,
              "#f0f921"
             ]
            ],
            "type": "heatmap"
           }
          ],
          "histogram": [
           {
            "marker": {
             "pattern": {
              "fillmode": "overlay",
              "size": 10,
              "solidity": 0.2
             }
            },
            "type": "histogram"
           }
          ],
          "histogram2d": [
           {
            "colorbar": {
             "outlinewidth": 0,
             "ticks": ""
            },
            "colorscale": [
             [
              0,
              "#0d0887"
             ],
             [
              0.1111111111111111,
              "#46039f"
             ],
             [
              0.2222222222222222,
              "#7201a8"
             ],
             [
              0.3333333333333333,
              "#9c179e"
             ],
             [
              0.4444444444444444,
              "#bd3786"
             ],
             [
              0.5555555555555556,
              "#d8576b"
             ],
             [
              0.6666666666666666,
              "#ed7953"
             ],
             [
              0.7777777777777778,
              "#fb9f3a"
             ],
             [
              0.8888888888888888,
              "#fdca26"
             ],
             [
              1,
              "#f0f921"
             ]
            ],
            "type": "histogram2d"
           }
          ],
          "histogram2dcontour": [
           {
            "colorbar": {
             "outlinewidth": 0,
             "ticks": ""
            },
            "colorscale": [
             [
              0,
              "#0d0887"
             ],
             [
              0.1111111111111111,
              "#46039f"
             ],
             [
              0.2222222222222222,
              "#7201a8"
             ],
             [
              0.3333333333333333,
              "#9c179e"
             ],
             [
              0.4444444444444444,
              "#bd3786"
             ],
             [
              0.5555555555555556,
              "#d8576b"
             ],
             [
              0.6666666666666666,
              "#ed7953"
             ],
             [
              0.7777777777777778,
              "#fb9f3a"
             ],
             [
              0.8888888888888888,
              "#fdca26"
             ],
             [
              1,
              "#f0f921"
             ]
            ],
            "type": "histogram2dcontour"
           }
          ],
          "mesh3d": [
           {
            "colorbar": {
             "outlinewidth": 0,
             "ticks": ""
            },
            "type": "mesh3d"
           }
          ],
          "parcoords": [
           {
            "line": {
             "colorbar": {
              "outlinewidth": 0,
              "ticks": ""
             }
            },
            "type": "parcoords"
           }
          ],
          "pie": [
           {
            "automargin": true,
            "type": "pie"
           }
          ],
          "scatter": [
           {
            "fillpattern": {
             "fillmode": "overlay",
             "size": 10,
             "solidity": 0.2
            },
            "type": "scatter"
           }
          ],
          "scatter3d": [
           {
            "line": {
             "colorbar": {
              "outlinewidth": 0,
              "ticks": ""
             }
            },
            "marker": {
             "colorbar": {
              "outlinewidth": 0,
              "ticks": ""
             }
            },
            "type": "scatter3d"
           }
          ],
          "scattercarpet": [
           {
            "marker": {
             "colorbar": {
              "outlinewidth": 0,
              "ticks": ""
             }
            },
            "type": "scattercarpet"
           }
          ],
          "scattergeo": [
           {
            "marker": {
             "colorbar": {
              "outlinewidth": 0,
              "ticks": ""
             }
            },
            "type": "scattergeo"
           }
          ],
          "scattergl": [
           {
            "marker": {
             "colorbar": {
              "outlinewidth": 0,
              "ticks": ""
             }
            },
            "type": "scattergl"
           }
          ],
          "scattermap": [
           {
            "marker": {
             "colorbar": {
              "outlinewidth": 0,
              "ticks": ""
             }
            },
            "type": "scattermap"
           }
          ],
          "scattermapbox": [
           {
            "marker": {
             "colorbar": {
              "outlinewidth": 0,
              "ticks": ""
             }
            },
            "type": "scattermapbox"
           }
          ],
          "scatterpolar": [
           {
            "marker": {
             "colorbar": {
              "outlinewidth": 0,
              "ticks": ""
             }
            },
            "type": "scatterpolar"
           }
          ],
          "scatterpolargl": [
           {
            "marker": {
             "colorbar": {
              "outlinewidth": 0,
              "ticks": ""
             }
            },
            "type": "scatterpolargl"
           }
          ],
          "scatterternary": [
           {
            "marker": {
             "colorbar": {
              "outlinewidth": 0,
              "ticks": ""
             }
            },
            "type": "scatterternary"
           }
          ],
          "surface": [
           {
            "colorbar": {
             "outlinewidth": 0,
             "ticks": ""
            },
            "colorscale": [
             [
              0,
              "#0d0887"
             ],
             [
              0.1111111111111111,
              "#46039f"
             ],
             [
              0.2222222222222222,
              "#7201a8"
             ],
             [
              0.3333333333333333,
              "#9c179e"
             ],
             [
              0.4444444444444444,
              "#bd3786"
             ],
             [
              0.5555555555555556,
              "#d8576b"
             ],
             [
              0.6666666666666666,
              "#ed7953"
             ],
             [
              0.7777777777777778,
              "#fb9f3a"
             ],
             [
              0.8888888888888888,
              "#fdca26"
             ],
             [
              1,
              "#f0f921"
             ]
            ],
            "type": "surface"
           }
          ],
          "table": [
           {
            "cells": {
             "fill": {
              "color": "#EBF0F8"
             },
             "line": {
              "color": "white"
             }
            },
            "header": {
             "fill": {
              "color": "#C8D4E3"
             },
             "line": {
              "color": "white"
             }
            },
            "type": "table"
           }
          ]
         },
         "layout": {
          "annotationdefaults": {
           "arrowcolor": "#2a3f5f",
           "arrowhead": 0,
           "arrowwidth": 1
          },
          "autotypenumbers": "strict",
          "coloraxis": {
           "colorbar": {
            "outlinewidth": 0,
            "ticks": ""
           }
          },
          "colorscale": {
           "diverging": [
            [
             0,
             "#8e0152"
            ],
            [
             0.1,
             "#c51b7d"
            ],
            [
             0.2,
             "#de77ae"
            ],
            [
             0.3,
             "#f1b6da"
            ],
            [
             0.4,
             "#fde0ef"
            ],
            [
             0.5,
             "#f7f7f7"
            ],
            [
             0.6,
             "#e6f5d0"
            ],
            [
             0.7,
             "#b8e186"
            ],
            [
             0.8,
             "#7fbc41"
            ],
            [
             0.9,
             "#4d9221"
            ],
            [
             1,
             "#276419"
            ]
           ],
           "sequential": [
            [
             0,
             "#0d0887"
            ],
            [
             0.1111111111111111,
             "#46039f"
            ],
            [
             0.2222222222222222,
             "#7201a8"
            ],
            [
             0.3333333333333333,
             "#9c179e"
            ],
            [
             0.4444444444444444,
             "#bd3786"
            ],
            [
             0.5555555555555556,
             "#d8576b"
            ],
            [
             0.6666666666666666,
             "#ed7953"
            ],
            [
             0.7777777777777778,
             "#fb9f3a"
            ],
            [
             0.8888888888888888,
             "#fdca26"
            ],
            [
             1,
             "#f0f921"
            ]
           ],
           "sequentialminus": [
            [
             0,
             "#0d0887"
            ],
            [
             0.1111111111111111,
             "#46039f"
            ],
            [
             0.2222222222222222,
             "#7201a8"
            ],
            [
             0.3333333333333333,
             "#9c179e"
            ],
            [
             0.4444444444444444,
             "#bd3786"
            ],
            [
             0.5555555555555556,
             "#d8576b"
            ],
            [
             0.6666666666666666,
             "#ed7953"
            ],
            [
             0.7777777777777778,
             "#fb9f3a"
            ],
            [
             0.8888888888888888,
             "#fdca26"
            ],
            [
             1,
             "#f0f921"
            ]
           ]
          },
          "colorway": [
           "#636efa",
           "#EF553B",
           "#00cc96",
           "#ab63fa",
           "#FFA15A",
           "#19d3f3",
           "#FF6692",
           "#B6E880",
           "#FF97FF",
           "#FECB52"
          ],
          "font": {
           "color": "#2a3f5f"
          },
          "geo": {
           "bgcolor": "white",
           "lakecolor": "white",
           "landcolor": "#E5ECF6",
           "showlakes": true,
           "showland": true,
           "subunitcolor": "white"
          },
          "hoverlabel": {
           "align": "left"
          },
          "hovermode": "closest",
          "mapbox": {
           "style": "light"
          },
          "paper_bgcolor": "white",
          "plot_bgcolor": "#E5ECF6",
          "polar": {
           "angularaxis": {
            "gridcolor": "white",
            "linecolor": "white",
            "ticks": ""
           },
           "bgcolor": "#E5ECF6",
           "radialaxis": {
            "gridcolor": "white",
            "linecolor": "white",
            "ticks": ""
           }
          },
          "scene": {
           "xaxis": {
            "backgroundcolor": "#E5ECF6",
            "gridcolor": "white",
            "gridwidth": 2,
            "linecolor": "white",
            "showbackground": true,
            "ticks": "",
            "zerolinecolor": "white"
           },
           "yaxis": {
            "backgroundcolor": "#E5ECF6",
            "gridcolor": "white",
            "gridwidth": 2,
            "linecolor": "white",
            "showbackground": true,
            "ticks": "",
            "zerolinecolor": "white"
           },
           "zaxis": {
            "backgroundcolor": "#E5ECF6",
            "gridcolor": "white",
            "gridwidth": 2,
            "linecolor": "white",
            "showbackground": true,
            "ticks": "",
            "zerolinecolor": "white"
           }
          },
          "shapedefaults": {
           "line": {
            "color": "#2a3f5f"
           }
          },
          "ternary": {
           "aaxis": {
            "gridcolor": "white",
            "linecolor": "white",
            "ticks": ""
           },
           "baxis": {
            "gridcolor": "white",
            "linecolor": "white",
            "ticks": ""
           },
           "bgcolor": "#E5ECF6",
           "caxis": {
            "gridcolor": "white",
            "linecolor": "white",
            "ticks": ""
           }
          },
          "title": {
           "x": 0.05
          },
          "xaxis": {
           "automargin": true,
           "gridcolor": "white",
           "linecolor": "white",
           "ticks": "",
           "title": {
            "standoff": 15
           },
           "zerolinecolor": "white",
           "zerolinewidth": 2
          },
          "yaxis": {
           "automargin": true,
           "gridcolor": "white",
           "linecolor": "white",
           "ticks": "",
           "title": {
            "standoff": 15
           },
           "zerolinecolor": "white",
           "zerolinewidth": 2
          }
         }
        },
        "title": {
         "text": "Heat Equation Solution"
        }
       }
      }
     },
     "metadata": {},
     "output_type": "display_data"
    }
   ],
   "source": [
    "### You code here the plotting.\n",
    "surface_params = {\n",
    "    \"x\": x,\n",
    "    \"y\": np.arange(0, dt*nt, dt),\n",
    "    \"z\": u.T, #Plotly expects the y data as rows and x as columns, so we transpose u\n",
    "    \"colorscale\": \"hot\", #fitting color scale =)\n",
    "}\n",
    "\n",
    "go.Figure(data=go.Surface(surface_params)).update_layout(scene=dict(\n",
    "                    xaxis_title=\"Time t\",\n",
    "                    yaxis_title=\"Position x\",\n",
    "                    zaxis_title=\"Temperature u(x,t)\"),\n",
    "                    title=\"Heat Equation Solution\").show()"
   ]
  }
 ],
 "metadata": {
  "kernelspec": {
   "display_name": "Python 3",
   "language": "python",
   "name": "python3"
  },
  "language_info": {
   "codemirror_mode": {
    "name": "ipython",
    "version": 3
   },
   "file_extension": ".py",
   "mimetype": "text/x-python",
   "name": "python",
   "nbconvert_exporter": "python",
   "pygments_lexer": "ipython3",
   "version": "3.12.8"
  }
 },
 "nbformat": 4,
 "nbformat_minor": 2
}
