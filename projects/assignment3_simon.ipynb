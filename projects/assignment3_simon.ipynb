{
 "cells": [
  {
   "cell_type": "markdown",
   "id": "852f9209",
   "metadata": {},
   "source": [
    "# 4. (Challenge) Time-dependent Schrödinger Equation for a Particle in a Potential Well\n",
    "\n",
    "The time-dependent Schrödinger equation for a particle in a 2D potential $V(x, y)$ can be written as\n",
    "\n",
    "\\begin{equation}\n",
    "i\\hbar \\frac{\\partial \\psi(x, y, t)}{\\partial t}\n",
    "= -\\frac{\\hbar^2}{2m}\n",
    "\\left(\n",
    "\\frac{\\partial^2 \\psi(x, y, t)}{\\partial x^2}\n",
    "+ \n",
    "\\frac{\\partial^2 \\psi(x, y, t)}{\\partial y^2}\n",
    "\\right)\n",
    "+ V(x, y)\\psi(x, y, t).\n",
    "\\end{equation}\n",
    "\n",
    "where $\\psi(x, y, t)$ is the wavefunction, and $V(x, y)$ is the potential. To facilitate our problem, consider a potential $V(x, y)$ given by a square with value zero inside the well and infinite outside. Thus, for a square of size $L$:\n",
    "\n",
    "\\begin{equation}\n",
    "V(x, y) =\n",
    "\\begin{cases}\n",
    "0, & \\text{if } 0 \\le x \\le L \\text{ and } 0 \\le y \\le L \\\\[4pt]\n",
    "\\infty & \\text{otherwise}\n",
    "\\end{cases}\n",
    "\\end{equation}\n",
    "\n",
    "As in the last exercise, we can start with a Gaussian wave packet located at the center of the well:\n",
    "\n",
    "\\begin{equation}\n",
    "\\psi(x, y, 0) = \n",
    "A \\exp\\!\\left(\n",
    "-\\frac{(x - L/2)^2 + (y - L/2)^2}{2\\sigma^2}\n",
    "\\right),\n",
    "\\end{equation}\n",
    "\n",
    "where $A = \\frac{1}{\\sigma\\sqrt{\\pi}}$ guarantees normalization. Our task is to solve those equations for an electron (use $\\hbar = 1.0545718 \\times 10^{-34}\\ \\mathrm{J\\cdot s}$, $m = 9.10938356 \\times 10^{-31}\\ \\mathrm{kg}$).\n",
    "- Let $L = 1\\ \\mathrm{nm}$. Choose an appropriate time discretization $\\Delta t$ so that it satisfies  $\\Delta t \\le \\frac{m(\\Delta x)^2}{2\\hbar}$, which guarantees numerical stability. Also set $\\sigma = \\frac{L}{10}$.\n",
    "\n",
    "- By choosing appropriate time and space grids ($\\Delta x$ and $\\Delta t$), use the finite differences (FD) method to discretize the equation above.\n",
    "\n",
    "- Solve the Schrödinger equation when subject to the potential $V(x, y)$. Don’t forget to guarantee that the complex function $\\psi(x, y, t)$ is normalized at each time step.\n",
    "\n",
    "- Observe how the wavefunction evolves over time. Calculate and plot the probability density $|\\psi(x, y, t)|^2$ for some times and explore the dynamics.\n"
   ]
  }
 ],
 "metadata": {
  "kernelspec": {
   "display_name": "Python 3",
   "language": "python",
   "name": "python3"
  },
  "language_info": {
   "name": "python",
   "version": "3.12.8"
  }
 },
 "nbformat": 4,
 "nbformat_minor": 5
}
