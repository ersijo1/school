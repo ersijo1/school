{
 "cells": [
  {
   "cell_type": "markdown",
   "id": "8402c895",
   "metadata": {},
   "source": [
    "#2. Simulation of a two-dimensional random walk\n",
    "=========\n",
    "\n",
    "A random walk is a mathematical model that describes a path consisting of a succession of random\n",
    "steps. In physics, random walks are fundamental in understanding diffusion processes, Brownian motion,\n",
    "and other related phenomena. In this exercise, we will use Monte Carlo to simulate a two-dimensional\n",
    "random walk.\n",
    "    Consider a particle starting at the origin (0, 0) and that, at each time step, it moves one unit length\n",
    "in a randomly chosen direction: up, down, left or right (i.e., along positive or negative x or y axes).\n",
    "* Using a random number generator, choose the direction between the four possible (up, down, left, right), and move the particle at each time step. Compute and save $r^2 = x^2_n + y^2_n$ at each time step n to keep track of the particle’s position.\n",
    "* Perform the above simulation for 1000 time steps, repeating this process M = 1000 times to gather statistical data on the particle’s displacement. Average $r^2$ over all M simulations to get $⟨r^2⟩$ as a function of n.\n",
    "* Plot $⟨r^2⟩$ versus n, and fit the data to a linear model ⟨$r^2$⟩ = 4Dn to find D.\n",
    "* The expected value of D in this case is D = 0.25. Discuss the variability of paths taken during different simulations and how increasing M improves the accuracy of $⟨r^2⟩$"
   ]
  }
 ],
 "metadata": {
  "language_info": {
   "name": "python"
  }
 },
 "nbformat": 4,
 "nbformat_minor": 5
}
