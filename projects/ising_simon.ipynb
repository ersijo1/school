{
  "cells": [
    {
      "cell_type": "code",
      "execution_count": 331,
      "metadata": {
        "id": "7lfhyNXwc9Vn"
      },
      "outputs": [],
      "source": [
        "import numpy as np\n",
        "import matplotlib.pyplot as plt\n",
        "import random\n",
        "import time"
      ]
    },
    {
      "cell_type": "code",
      "execution_count": 332,
      "metadata": {
        "id": "74Tq8mESc_hG"
      },
      "outputs": [],
      "source": [
        "spins = 10\n",
        "\n",
        "## Construct a random lattice with spins x spins size\n",
        "sigmas = np.round(np.random.rand(spins**2))*2-1\n",
        "lattice = sigmas.reshape((spins, spins))\n",
        "\n",
        "## The next function returns the total energy of the lattice\n",
        "def total_energy(lat, J):\n",
        "    Etot = 0\n",
        "\n",
        "    for i in range(len(lat)):\n",
        "        for j in range(len(lat)):\n",
        "            if i > 0:\n",
        "                Etot = Etot - (J/2)*lat[i][j]*lat[i-1][j]\n",
        "            if j > 0:\n",
        "                Etot = Etot - (J/2)*lat[i][j]*lat[i][j-1]\n",
        "            if i < len(lat)-1:\n",
        "                Etot = Etot - (J/2)*lat[i][j]*lat[i+1][j]\n",
        "            if j < len(lat)-1:\n",
        "                Etot = Etot - (J/2)*lat[i][j]*lat[i][j+1]\n",
        "\n",
        "    return Etot"
      ]
    },
    {
      "cell_type": "code",
      "execution_count": 333,
      "metadata": {
        "id": "Rm98Y4aFdDVi"
      },
      "outputs": [],
      "source": [
        "## Now, your turn\n",
        "\n",
        "def metropolis_step(lat, J, T, kB=1):\n",
        "  #lat: the input lattice\n",
        "  #J: the value of the interaction J between spins\n",
        "  #T: the temperature value\n",
        "  E_old = total_energy(lat, J)\n",
        "\n",
        "  j = np.random.randint(len(lat))\n",
        "  i = np.random.randint(len(lat))\n",
        "  lat[i][j] *= -1\n",
        "\n",
        "  E_new = total_energy(lat, J)\n",
        "\n",
        "  dE = E_new - E_old\n",
        "  if dE < 0:\n",
        "    return lat\n",
        "  \n",
        "  p = np.random.rand()\n",
        "  if p < np.exp(-dE/(kB*T)):\n",
        "    return lat\n",
        "  \n",
        "  lat[i][j] *= -1\n",
        "  return lat"
      ]
    },
    {
      "cell_type": "code",
      "execution_count": 334,
      "metadata": {
        "colab": {
          "base_uri": "https://localhost:8080/",
          "height": 565
        },
        "id": "baCW1H2CeLDW",
        "outputId": "412fc6f2-9acc-40b4-c06b-0347cde5cd79"
      },
      "outputs": [
        {
          "data": {
            "image/png": "[encoded data removed]",
            "text/plain": [
              "<Figure size 640x480 with 1 Axes>"
            ]
          },
          "metadata": {},
          "output_type": "display_data"
        },
        {
          "data": {
            "image/png": "[encoded data removed]",
            "text/plain": [
              "<Figure size 640x480 with 1 Axes>"
            ]
          },
          "metadata": {},
          "output_type": "display_data"
        },
        {
          "name": "stdout",
          "output_type": "stream",
          "text": [
            "\n",
            "Time elapsed: 2.5145115852355957 seconds\n"
          ]
        }
      ],
      "source": [
        "## With your metropolis_step function, try now to perform several steps of Monte Carlo\n",
        "\n",
        "steps = 10000\n",
        "J = 1\n",
        "Temp = 0.1\n",
        "\n",
        "## Here is a function to visualize the lattice:\n",
        "\n",
        "def visualizer(lat):\n",
        "  color_matrix = np.where(lat == 1, 0, 1)\n",
        "  plt.imshow(color_matrix, cmap = 'bwr', interpolation = 'nearest')\n",
        "  plt.axis('off')\n",
        "  plt.show()\n",
        "\n",
        "start_time = time.time()\n",
        "visualizer(lattice)\n",
        "\n",
        "for i in range(steps):\n",
        "  lattice = metropolis_step(lattice, J, Temp)\n",
        "\n",
        "visualizer(lattice)\n",
        "time_elapsed = time.time() -start_time\n",
        "print(f\"\\nTime elapsed: {time_elapsed} seconds\")\n"
      ]
    },
    {
      "cell_type": "code",
      "execution_count": null,
      "metadata": {
        "id": "9agtynkyeurr"
      },
      "outputs": [],
      "source": [
        "## Now, let's try to implement the same using bitwise operations\n",
        "def get_masks():\n",
        "    right_mask = sum(1 << (i * spins + (spins-1)) for i in range(spins)) #eg 1000 1000 1000 1000 1000 for spins=5\n",
        "    down_mask = (1 << (spins * (spins - 1))) - 1\n",
        "    return right_mask, down_mask\n"
      ]
    },
    {
      "cell_type": "code",
      "execution_count": null,
      "metadata": {},
      "outputs": [],
      "source": [
        "def bitwise_energy(board, J, RIGHT_MASK, DOWN_MASK):\n",
        "    # horizontal neighbors: shift left (>>1) but mask edges\n",
        "    hdiff = (board ^ (board >> 1)) & ~RIGHT_MASK #(board >> 1) shift right, then XOR to find differences (different neighbors give 1), then zeros out right edge\n",
        "    num_diff_h = hdiff.bit_count()\n",
        "\n",
        "    # vertical neighbors: shift up (>>4), mask top row\n",
        "    vdiff = (board ^ (board >> spins)) & DOWN_MASK  # mask out top row\n",
        "    num_diff_v = vdiff.bit_count()\n",
        "    \n",
        "    return J * (num_diff_h + num_diff_v - spins * (spins-1))\n",
        "\n",
        "def bitwise_metropolis_step(board, J, T, kB, no_of_bits, RIGHT_MASK, DOWN_MASK):\n",
        "  E_old = bitwise_energy(board, J, RIGHT_MASK, DOWN_MASK)\n",
        "\n",
        "  j = np.random.randint(no_of_bits)\n",
        "  bit_swap = 1 << j\n",
        "  board ^= bit_swap\n",
        "\n",
        "  E_new = bitwise_energy(board, J, RIGHT_MASK, DOWN_MASK)\n",
        "\n",
        "  dE = E_new - E_old\n",
        "  if dE < 0:\n",
        "    return board\n",
        "  \n",
        "  p = np.random.rand()\n",
        "  if p < np.exp(-dE/(kB*T)):\n",
        "    return board\n",
        "  \n",
        "  board ^= bit_swap\n",
        "  return board"
      ]
    },
    {
      "cell_type": "code",
      "execution_count": null,
      "metadata": {},
      "outputs": [
        {
          "name": "stdout",
          "output_type": "stream",
          "text": [
            "Initial state:\n",
            "0110100010\n",
            "1110001110\n",
            "0110111101\n",
            "1010101101\n",
            "1111110110\n",
            "1001110011\n",
            "0010110010\n",
            "1100100110\n",
            "0101110011\n",
            "1110001000\n",
            "\n",
            "Final state:\n",
            "1111111111\n",
            "1111111111\n",
            "1111111111\n",
            "1111111111\n",
            "1111111111\n",
            "1111111111\n",
            "1111111111\n",
            "1111111111\n",
            "1111111111\n",
            "1111111111\n",
            "\n",
            "Time elapsed: 0.03569197654724121 seconds\n",
            "814\n"
          ]
        }
      ],
      "source": [
        "## With your metropolis_step function, try now to perform several steps of Monte Carlo\n",
        "\n",
        "steps = 10000\n",
        "J = 1\n",
        "T = 0.1\n",
        "kB = 1\n",
        "no_of_bits = spins**2\n",
        "board = random.getrandbits(no_of_bits) #random initial state, a board of 0s and 1s\n",
        "RIGHT_MASK, DOWN_MASK = get_masks()\n",
        "\n",
        "def bitwise_visualizer(board):\n",
        "  for i in range(spins): #row_wise\n",
        "    row = \"\"\n",
        "    for j in range(spins):\n",
        "      row += str((board >> (j+(spins*i))) & 1)\n",
        "    print(row)\n",
        "\n",
        "start_time = time.time()\n",
        "print(\"Initial state:\")\n",
        "bitwise_visualizer(board)\n",
        "\n",
        "for i in range(steps):\n",
        "  board = bitwise_metropolis_step(board, J, T, kB, no_of_bits, RIGHT_MASK, DOWN_MASK)\n",
        "\n",
        "print(\"\\nFinal state:\")\n",
        "bitwise_visualizer(board)\n",
        "time_elapsed = time.time() -start_time\n",
        "print(f\"\\nTime elapsed: {time_elapsed} seconds\")\n",
        "\n",
        "print(149\n",
        "+15\n",
        "+19\n",
        "+29\n",
        "+25\n",
        "+45\n",
        "+29\n",
        "+39\n",
        "+49\n",
        "+59\n",
        "+199\n",
        "+29\n",
        "+89\n",
        "+39)"
      ]
    }
  ],
  "metadata": {
    "colab": {
      "provenance": []
    },
    "kernelspec": {
      "display_name": "Python 3",
      "name": "python3"
    },
    "language_info": {
      "codemirror_mode": {
        "name": "ipython",
        "version": 3
      },
      "file_extension": ".py",
      "mimetype": "text/x-python",
      "name": "python",
      "nbconvert_exporter": "python",
      "pygments_lexer": "ipython3",
      "version": "3.12.8"
    }
  },
  "nbformat": 4,
  "nbformat_minor": 0
}
